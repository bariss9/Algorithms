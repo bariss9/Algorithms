{
 "cells": [
  {
   "cell_type": "markdown",
   "id": "cfdc7c0d-8eb7-4d7b-b188-3b219d959513",
   "metadata": {},
   "source": [
    "# Decision Tree ve Random Forest algoritmaları\n"
   ]
  },
  {
   "cell_type": "markdown",
   "id": "6674dfbe-84b6-4e89-9e0a-2efca2b954e2",
   "metadata": {},
   "source": [
    "## Decision Tree"
   ]
  },
  {
   "cell_type": "markdown",
   "id": "47b1ad88-bf7c-4f36-bb49-96c2670c8357",
   "metadata": {},
   "source": [
    "- Genel anlamda Node(düğüm) ve Leaf(yaprak) oluşturur\n",
    "- Her düğüm bir özelliği temsil eder ve her yaprak bu özelliklerden doğan sonuçları temsil eder"
   ]
  },
  {
   "cell_type": "markdown",
   "id": "cc7db888-3202-4fca-a38d-08d9e7fe67ff",
   "metadata": {},
   "source": [
    "Bu ağaç oluşturulurken bellirli kriterlere bağlı kalarak oluşturulur.\n",
    "- En iyi özelliği seçme\n",
    "- Veriyi ikiye bölme\n",
    "- Durma koşulları"
   ]
  },
  {
   "cell_type": "markdown",
   "id": "245f4122-8db1-4378-bbfc-ac5410c4d3e7",
   "metadata": {},
   "source": [
    "#### En iyi özelliği seçme;\n",
    "Her aşamada veri setini en iyi ayıran özelliği seçerek devam ederiz.\n",
    "Bu en özelliği belirlerken bazı kriterlere başvururuz;\n",
    "- Gini Index:                  Hızlı ve saflık odaklı bir kriterdir. Saflık ölçütü olarakta geçer.\n",
    "- Entropy ve Information Gain: Daha sezgisel, belirsizlik ve düzensizlik ölçütü olarak geçer. Bilgi kazancının entropiyi ne kadar azalttığını ölçer\n",
    "      "
   ]
  },
  {
   "cell_type": "markdown",
   "id": "4c085b90-96d2-4e27-82c8-373a291eee20",
   "metadata": {},
   "source": [
    "Avantajları ve Dezavantajları"
   ]
  },
  {
   "cell_type": "markdown",
   "id": "51d03b80-c136-4a25-8edf-206b3258e410",
   "metadata": {},
   "source": [
    "Avantajlar;\n",
    "- Kolay Görselleştirilebilir\n",
    "- Yorumlaması Kolay\n",
    "- Özellik ölçeklendirmesi gerekmez\n"
   ]
  },
  {
   "cell_type": "markdown",
   "id": "88bec8b8-089e-40cb-b1fa-eec26647cee4",
   "metadata": {},
   "source": [
    "Dezavantajlar;\n",
    "- Aşırı öğrenmeye meyilli (Overfitting)\n",
    "- Veri küçük değilse yapı bozulabilir\n",
    "- Derin ağaçlar yavaş çalışabilir."
   ]
  },
  {
   "cell_type": "markdown",
   "id": "a4de465f-0d78-4ef1-83c7-9e8d2a692e3b",
   "metadata": {},
   "source": [
    "## Random Forest\n"
   ]
  },
  {
   "cell_type": "markdown",
   "id": "271665c6-4af6-4bdb-bd1c-6c43d3301af6",
   "metadata": {},
   "source": [
    "- Birden fazla Decision Treenin birleşmesinden oluşur.\n",
    "- Decision Treede olan dezavantajların bazılarını ortadan kaldırır"
   ]
  },
  {
   "cell_type": "markdown",
   "id": "97a22d22-ceef-4a48-9276-3a248bde3280",
   "metadata": {},
   "source": [
    "Decision Treelerden çıkan cevaplardan fazla olanlara göre karar verilir"
   ]
  },
  {
   "cell_type": "markdown",
   "id": "ef0e439d-78aa-4bdd-9bd9-372965e553c8",
   "metadata": {},
   "source": [
    "### Bazı çalışma yöntemlerine sahiptir;"
   ]
  },
  {
   "cell_type": "markdown",
   "id": "80a38ebc-a2d2-493c-8ca4-370e9d5fd12f",
   "metadata": {},
   "source": [
    "#### Bootstrap Sampling(rastgele örnekleme)\n",
    "- Her ağaç için eğitim verisinden rastgele örnekler alınır yani her bir ağaç farklı bir veri setiyle eğitilir."
   ]
  },
  {
   "cell_type": "markdown",
   "id": "e9b3ea04-89a7-44bb-986f-8868d35f5fa6",
   "metadata": {},
   "source": [
    "#### Özelliklerin rastgele seçilmesi\n",
    "- Her düğüm veriyi ayırmak için tüm özellikler değil, rastgele bir alt küme özellik arasından seçim yapılır. Bu da ağaçların daha farklı olmasını sağlar."
   ]
  },
  {
   "cell_type": "markdown",
   "id": "7d20097d-e7c3-4262-a5f7-0eefdae4b50d",
   "metadata": {},
   "source": [
    "#### Karar ağaçlarının eğitilmesi;\n",
    "- Her ağaç bağımsız olarak eğitilir."
   ]
  },
  {
   "cell_type": "markdown",
   "id": "3002b92a-9d8b-48f6-89f9-bcee13df7af6",
   "metadata": {},
   "source": [
    "#### Tahmin \n",
    "- Sınıflandırma: Ağaçlar oy kullanır, en çok oyu alan sınıf sonucu belirler.\n",
    "- Regresyo: Ağaçların çıktıları ortalanır."
   ]
  },
  {
   "cell_type": "markdown",
   "id": "11dd4f16-6e02-4b79-8d81-8ef234ab3530",
   "metadata": {},
   "source": [
    "#### Avantajları:"
   ]
  },
  {
   "cell_type": "markdown",
   "id": "a8b5d0c1-9a1f-4714-aa85-ad9ccb6af415",
   "metadata": {},
   "source": [
    "- Aşırı öğrenmeye karşı dayanıklı\n",
    "- Doğruluğu genellikle yüksek\n",
    "- Büyük veri kümeleriyle iyi çalışır\n",
    "- Hangi özelliğin daha belirleyici olduğunu gösterebilir."
   ]
  },
  {
   "cell_type": "markdown",
   "id": "9a609bbe-63ff-4753-9149-defee3fe833f",
   "metadata": {},
   "source": [
    "#### Dezavantajları:\n",
    "- Yavaş olabilir(çok ağaç olmasından kaynaklı)\n",
    "- Yorumlaması zordur (her ağaç teker teker çizilemez)\n",
    "- Çok fazla bellek tüketebilir."
   ]
  },
  {
   "cell_type": "code",
   "execution_count": null,
   "id": "1b64a970-fe41-4dbc-99ee-c56957d1d203",
   "metadata": {},
   "outputs": [],
   "source": []
  }
 ],
 "metadata": {
  "kernelspec": {
   "display_name": "Python 3 (ipykernel)",
   "language": "python",
   "name": "python3"
  },
  "language_info": {
   "codemirror_mode": {
    "name": "ipython",
    "version": 3
   },
   "file_extension": ".py",
   "mimetype": "text/x-python",
   "name": "python",
   "nbconvert_exporter": "python",
   "pygments_lexer": "ipython3",
   "version": "3.12.9"
  }
 },
 "nbformat": 4,
 "nbformat_minor": 5
}
